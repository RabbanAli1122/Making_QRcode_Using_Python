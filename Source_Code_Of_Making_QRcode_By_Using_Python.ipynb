{
  "nbformat": 4,
  "nbformat_minor": 0,
  "metadata": {
    "colab": {
      "name": "Untitled0.ipynb",
      "provenance": [],
      "authorship_tag": "ABX9TyM/0DBDaNF0BM5Wg0E0jWtz",
      "include_colab_link": true
    },
    "kernelspec": {
      "name": "python3",
      "display_name": "Python 3"
    },
    "language_info": {
      "name": "python"
    }
  },
  "cells": [
    {
      "cell_type": "markdown",
      "metadata": {
        "id": "view-in-github",
        "colab_type": "text"
      },
      "source": [
        "<a href=\"https://colab.research.google.com/gist/RabbanAli1122/f04a43c97a9e99339565f86fe2839d20/untitled0.ipynb\" target=\"_parent\"><img src=\"https://colab.research.google.com/assets/colab-badge.svg\" alt=\"Open In Colab\"/></a>"
      ]
    },
    {
      "cell_type": "code",
      "source": [
        "!pip intall qrcode"
      ],
      "metadata": {
        "colab": {
          "base_uri": "https://localhost:8080/"
        },
        "id": "v6AyEAvvOCTn",
        "outputId": "adde5ddc-52a4-4a4d-db90-b8083b0be0b3"
      },
      "execution_count": null,
      "outputs": [
        {
          "output_type": "stream",
          "name": "stdout",
          "text": [
            "Looking in indexes: https://pypi.org/simple, https://us-python.pkg.dev/colab-wheels/public/simple/\n",
            "Collecting qrcode\n",
            "  Downloading qrcode-7.3.1.tar.gz (43 kB)\n",
            "\u001b[K     |████████████████████████████████| 43 kB 1.4 MB/s \n",
            "\u001b[?25hBuilding wheels for collected packages: qrcode\n",
            "  Building wheel for qrcode (setup.py) ... \u001b[?25l\u001b[?25hdone\n",
            "  Created wheel for qrcode: filename=qrcode-7.3.1-py3-none-any.whl size=40402 sha256=d682cacc7dd4bcd3efa8a40d51b19ab97da22c484463aad0aca3aef4df3dd37d\n",
            "  Stored in directory: /root/.cache/pip/wheels/93/d7/39/a4111be2cfb8e679938aa671a37888b6afb1f9e7d748e94492\n",
            "Successfully built qrcode\n",
            "Installing collected packages: qrcode\n",
            "Successfully installed qrcode-7.3.1\n"
          ]
        }
      ]
    },
    {
      "cell_type": "code",
      "source": [
        "import qrcode\n",
        "from PIL import Image\n",
        "\n",
        "\n",
        "qr=qrcode.QRCode(version=6,\n",
        "                  box_size=10, border=10)\n",
        "qr.add_data(\"https://www.youtube.com/watch?v=OKuiyX5k6zg\")\n",
        "qr.make(fit=True)\n",
        "img=qr.make_image(fill_color=\"white\",back_color=\"black\")\n",
        "img.save(\"python_20_projects.png\")"
      ],
      "metadata": {
        "id": "CTYr5iPAQD8x"
      },
      "execution_count": null,
      "outputs": []
    },
    {
      "cell_type": "code",
      "source": [
        "import qrcode\n",
        "image= qrcode.make(\"https://www.youtube.com/watch?v=OKuiyX5k6zg\")\n",
        "image.save(\"python.png\")"
      ],
      "metadata": {
        "id": "2t4psDmPOlB8"
      },
      "execution_count": null,
      "outputs": []
    }
  ]
}